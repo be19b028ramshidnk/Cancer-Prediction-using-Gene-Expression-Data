{
 "cells": [
  {
   "cell_type": "markdown",
   "id": "8aa7083d",
   "metadata": {},
   "source": [
    "## Libraries Used\n",
    " - numpy\n",
    " - matplotlib\n",
    " - seaborn\n",
    " - pandas\n",
    " - scikit"
   ]
  },
  {
   "cell_type": "code",
   "execution_count": 1,
   "id": "6e608021",
   "metadata": {},
   "outputs": [],
   "source": [
    "# Data Handling using pandas and numpy\n",
    "import pandas as pd\n",
    "import numpy as np"
   ]
  },
  {
   "cell_type": "code",
   "execution_count": 2,
   "id": "217fa89e",
   "metadata": {},
   "outputs": [
    {
     "name": "stderr",
     "output_type": "stream",
     "text": [
      "C:\\Users\\RAMSHID NK\\anaconda3\\lib\\site-packages\\scipy\\__init__.py:146: UserWarning: A NumPy version >=1.16.5 and <1.23.0 is required for this version of SciPy (detected version 1.26.4\n",
      "  warnings.warn(f\"A NumPy version >={np_minversion} and <{np_maxversion}\"\n"
     ]
    }
   ],
   "source": [
    "# Data Visualization\n",
    "import matplotlib.pyplot as plt\n",
    "import seaborn as sns"
   ]
  },
  {
   "cell_type": "code",
   "execution_count": 3,
   "id": "392558e7",
   "metadata": {},
   "outputs": [],
   "source": [
    "# Data Preprocessing\n",
    "from sklearn.model_selection import train_test_split\n",
    "from sklearn.preprocessing import LabelEncoder\n",
    "from sklearn.preprocessing import LabelBinarizer\n",
    "from sklearn.preprocessing import MinMaxScaler"
   ]
  },
  {
   "cell_type": "code",
   "execution_count": 4,
   "id": "32accbf8",
   "metadata": {},
   "outputs": [],
   "source": [
    "#Feature selection\n",
    "from sklearn.feature_selection import mutual_info_classif"
   ]
  },
  {
   "cell_type": "code",
   "execution_count": 5,
   "id": "9205190a",
   "metadata": {},
   "outputs": [],
   "source": [
    "# Classifier for classification\n",
    "from sklearn.multiclass import OneVsRestClassifier\n",
    "from sklearn.ensemble import RandomForestClassifier\n"
   ]
  },
  {
   "cell_type": "code",
   "execution_count": 6,
   "id": "d0cfb193",
   "metadata": {},
   "outputs": [],
   "source": [
    "# Performance Matrix\n",
    "from sklearn.metrics import balanced_accuracy_score,f1_score,precision_score,recall_score\n",
    "from sklearn.metrics import classification_report\n",
    "from sklearn.metrics import confusion_matrix\n",
    "from sklearn.metrics import ConfusionMatrixDisplay\n",
    "from sklearn.metrics import roc_curve, auc\n",
    "from sklearn.metrics import roc_auc_score"
   ]
  },
  {
   "cell_type": "code",
   "execution_count": 7,
   "id": "2b3aef8e",
   "metadata": {},
   "outputs": [],
   "source": [
    "dataframe=pd.read_csv(\"cancer_gene_expression.csv\")\n"
   ]
  },
  {
   "cell_type": "code",
   "execution_count": 8,
   "id": "f4ecd710",
   "metadata": {},
   "outputs": [
    {
     "data": {
      "text/html": [
       "<div>\n",
       "<style scoped>\n",
       "    .dataframe tbody tr th:only-of-type {\n",
       "        vertical-align: middle;\n",
       "    }\n",
       "\n",
       "    .dataframe tbody tr th {\n",
       "        vertical-align: top;\n",
       "    }\n",
       "\n",
       "    .dataframe thead th {\n",
       "        text-align: right;\n",
       "    }\n",
       "</style>\n",
       "<table border=\"1\" class=\"dataframe\">\n",
       "  <thead>\n",
       "    <tr style=\"text-align: right;\">\n",
       "      <th></th>\n",
       "      <th>gene_1</th>\n",
       "      <th>gene_2</th>\n",
       "      <th>gene_3</th>\n",
       "      <th>gene_4</th>\n",
       "      <th>gene_5</th>\n",
       "      <th>gene_6</th>\n",
       "      <th>gene_7</th>\n",
       "      <th>gene_8</th>\n",
       "      <th>gene_9</th>\n",
       "      <th>gene_10</th>\n",
       "      <th>...</th>\n",
       "      <th>gene_7992</th>\n",
       "      <th>gene_7993</th>\n",
       "      <th>gene_7994</th>\n",
       "      <th>gene_7995</th>\n",
       "      <th>gene_7996</th>\n",
       "      <th>gene_7997</th>\n",
       "      <th>gene_7998</th>\n",
       "      <th>gene_7999</th>\n",
       "      <th>gene_8000</th>\n",
       "      <th>Cancer_Type</th>\n",
       "    </tr>\n",
       "  </thead>\n",
       "  <tbody>\n",
       "    <tr>\n",
       "      <th>0</th>\n",
       "      <td>0.0</td>\n",
       "      <td>0.000000</td>\n",
       "      <td>0.0</td>\n",
       "      <td>2.088413</td>\n",
       "      <td>0.0</td>\n",
       "      <td>0.0</td>\n",
       "      <td>0.0</td>\n",
       "      <td>0.0</td>\n",
       "      <td>0.550605</td>\n",
       "      <td>2.815760</td>\n",
       "      <td>...</td>\n",
       "      <td>11.558803</td>\n",
       "      <td>8.881802</td>\n",
       "      <td>6.014840</td>\n",
       "      <td>6.643534</td>\n",
       "      <td>11.740624</td>\n",
       "      <td>7.065012</td>\n",
       "      <td>9.932659</td>\n",
       "      <td>6.928584</td>\n",
       "      <td>2.088413</td>\n",
       "      <td>KIRC</td>\n",
       "    </tr>\n",
       "    <tr>\n",
       "      <th>1</th>\n",
       "      <td>0.0</td>\n",
       "      <td>0.000000</td>\n",
       "      <td>0.0</td>\n",
       "      <td>3.205955</td>\n",
       "      <td>0.0</td>\n",
       "      <td>0.0</td>\n",
       "      <td>0.0</td>\n",
       "      <td>0.0</td>\n",
       "      <td>0.425244</td>\n",
       "      <td>2.354396</td>\n",
       "      <td>...</td>\n",
       "      <td>11.062829</td>\n",
       "      <td>9.032864</td>\n",
       "      <td>5.054193</td>\n",
       "      <td>6.432320</td>\n",
       "      <td>12.104985</td>\n",
       "      <td>7.300746</td>\n",
       "      <td>9.872796</td>\n",
       "      <td>5.039231</td>\n",
       "      <td>2.448002</td>\n",
       "      <td>KIRC</td>\n",
       "    </tr>\n",
       "    <tr>\n",
       "      <th>2</th>\n",
       "      <td>0.0</td>\n",
       "      <td>0.000000</td>\n",
       "      <td>0.0</td>\n",
       "      <td>4.746646</td>\n",
       "      <td>0.0</td>\n",
       "      <td>0.0</td>\n",
       "      <td>0.0</td>\n",
       "      <td>0.0</td>\n",
       "      <td>2.639417</td>\n",
       "      <td>1.657091</td>\n",
       "      <td>...</td>\n",
       "      <td>12.497640</td>\n",
       "      <td>7.198160</td>\n",
       "      <td>0.943434</td>\n",
       "      <td>7.371690</td>\n",
       "      <td>11.202356</td>\n",
       "      <td>8.426588</td>\n",
       "      <td>11.176890</td>\n",
       "      <td>3.119738</td>\n",
       "      <td>4.433988</td>\n",
       "      <td>BRCA</td>\n",
       "    </tr>\n",
       "    <tr>\n",
       "      <th>3</th>\n",
       "      <td>0.0</td>\n",
       "      <td>0.000000</td>\n",
       "      <td>0.0</td>\n",
       "      <td>1.173191</td>\n",
       "      <td>0.0</td>\n",
       "      <td>0.0</td>\n",
       "      <td>0.0</td>\n",
       "      <td>0.0</td>\n",
       "      <td>1.527371</td>\n",
       "      <td>2.732899</td>\n",
       "      <td>...</td>\n",
       "      <td>11.261713</td>\n",
       "      <td>8.725676</td>\n",
       "      <td>6.300418</td>\n",
       "      <td>6.036451</td>\n",
       "      <td>11.732303</td>\n",
       "      <td>7.559469</td>\n",
       "      <td>9.596453</td>\n",
       "      <td>2.863046</td>\n",
       "      <td>3.380342</td>\n",
       "      <td>KIRC</td>\n",
       "    </tr>\n",
       "    <tr>\n",
       "      <th>4</th>\n",
       "      <td>0.0</td>\n",
       "      <td>0.000000</td>\n",
       "      <td>0.0</td>\n",
       "      <td>1.366532</td>\n",
       "      <td>0.0</td>\n",
       "      <td>0.0</td>\n",
       "      <td>0.0</td>\n",
       "      <td>0.0</td>\n",
       "      <td>0.000000</td>\n",
       "      <td>3.388355</td>\n",
       "      <td>...</td>\n",
       "      <td>12.241965</td>\n",
       "      <td>7.685204</td>\n",
       "      <td>5.142948</td>\n",
       "      <td>6.355788</td>\n",
       "      <td>11.493950</td>\n",
       "      <td>8.139444</td>\n",
       "      <td>10.189256</td>\n",
       "      <td>6.544487</td>\n",
       "      <td>0.839395</td>\n",
       "      <td>COAD</td>\n",
       "    </tr>\n",
       "    <tr>\n",
       "      <th>...</th>\n",
       "      <td>...</td>\n",
       "      <td>...</td>\n",
       "      <td>...</td>\n",
       "      <td>...</td>\n",
       "      <td>...</td>\n",
       "      <td>...</td>\n",
       "      <td>...</td>\n",
       "      <td>...</td>\n",
       "      <td>...</td>\n",
       "      <td>...</td>\n",
       "      <td>...</td>\n",
       "      <td>...</td>\n",
       "      <td>...</td>\n",
       "      <td>...</td>\n",
       "      <td>...</td>\n",
       "      <td>...</td>\n",
       "      <td>...</td>\n",
       "      <td>...</td>\n",
       "      <td>...</td>\n",
       "      <td>...</td>\n",
       "      <td>...</td>\n",
       "    </tr>\n",
       "    <tr>\n",
       "      <th>796</th>\n",
       "      <td>0.0</td>\n",
       "      <td>2.933384</td>\n",
       "      <td>0.0</td>\n",
       "      <td>1.683921</td>\n",
       "      <td>0.0</td>\n",
       "      <td>0.0</td>\n",
       "      <td>0.0</td>\n",
       "      <td>0.0</td>\n",
       "      <td>0.635336</td>\n",
       "      <td>1.252839</td>\n",
       "      <td>...</td>\n",
       "      <td>9.985842</td>\n",
       "      <td>9.469967</td>\n",
       "      <td>4.225275</td>\n",
       "      <td>6.955336</td>\n",
       "      <td>11.722206</td>\n",
       "      <td>7.309940</td>\n",
       "      <td>10.986119</td>\n",
       "      <td>6.396848</td>\n",
       "      <td>1.252839</td>\n",
       "      <td>BRCA</td>\n",
       "    </tr>\n",
       "    <tr>\n",
       "      <th>797</th>\n",
       "      <td>0.0</td>\n",
       "      <td>0.000000</td>\n",
       "      <td>0.0</td>\n",
       "      <td>2.772625</td>\n",
       "      <td>0.0</td>\n",
       "      <td>0.0</td>\n",
       "      <td>0.0</td>\n",
       "      <td>0.0</td>\n",
       "      <td>0.534759</td>\n",
       "      <td>3.761764</td>\n",
       "      <td>...</td>\n",
       "      <td>12.334681</td>\n",
       "      <td>8.157327</td>\n",
       "      <td>1.482797</td>\n",
       "      <td>6.758183</td>\n",
       "      <td>11.403838</td>\n",
       "      <td>9.005347</td>\n",
       "      <td>11.012045</td>\n",
       "      <td>5.386625</td>\n",
       "      <td>1.697640</td>\n",
       "      <td>COAD</td>\n",
       "    </tr>\n",
       "    <tr>\n",
       "      <th>798</th>\n",
       "      <td>0.0</td>\n",
       "      <td>0.408277</td>\n",
       "      <td>0.0</td>\n",
       "      <td>1.854754</td>\n",
       "      <td>0.0</td>\n",
       "      <td>0.0</td>\n",
       "      <td>0.0</td>\n",
       "      <td>0.0</td>\n",
       "      <td>0.000000</td>\n",
       "      <td>0.986520</td>\n",
       "      <td>...</td>\n",
       "      <td>11.671992</td>\n",
       "      <td>8.859616</td>\n",
       "      <td>6.393828</td>\n",
       "      <td>6.427115</td>\n",
       "      <td>11.596586</td>\n",
       "      <td>7.454127</td>\n",
       "      <td>10.718533</td>\n",
       "      <td>5.507417</td>\n",
       "      <td>1.398131</td>\n",
       "      <td>BRCA</td>\n",
       "    </tr>\n",
       "    <tr>\n",
       "      <th>799</th>\n",
       "      <td>0.0</td>\n",
       "      <td>0.639232</td>\n",
       "      <td>0.0</td>\n",
       "      <td>3.226971</td>\n",
       "      <td>0.0</td>\n",
       "      <td>0.0</td>\n",
       "      <td>0.0</td>\n",
       "      <td>0.0</td>\n",
       "      <td>1.921322</td>\n",
       "      <td>0.639232</td>\n",
       "      <td>...</td>\n",
       "      <td>12.237087</td>\n",
       "      <td>5.753976</td>\n",
       "      <td>4.192478</td>\n",
       "      <td>6.614875</td>\n",
       "      <td>11.183245</td>\n",
       "      <td>7.544261</td>\n",
       "      <td>10.649382</td>\n",
       "      <td>5.282158</td>\n",
       "      <td>0.639232</td>\n",
       "      <td>BRCA</td>\n",
       "    </tr>\n",
       "    <tr>\n",
       "      <th>800</th>\n",
       "      <td>0.0</td>\n",
       "      <td>0.000000</td>\n",
       "      <td>0.0</td>\n",
       "      <td>2.336912</td>\n",
       "      <td>0.0</td>\n",
       "      <td>0.0</td>\n",
       "      <td>0.0</td>\n",
       "      <td>0.0</td>\n",
       "      <td>0.926379</td>\n",
       "      <td>1.233090</td>\n",
       "      <td>...</td>\n",
       "      <td>11.086966</td>\n",
       "      <td>8.345086</td>\n",
       "      <td>7.789018</td>\n",
       "      <td>6.472460</td>\n",
       "      <td>11.819836</td>\n",
       "      <td>8.082942</td>\n",
       "      <td>10.397717</td>\n",
       "      <td>7.550000</td>\n",
       "      <td>0.926379</td>\n",
       "      <td>COAD</td>\n",
       "    </tr>\n",
       "  </tbody>\n",
       "</table>\n",
       "<p>801 rows × 8001 columns</p>\n",
       "</div>"
      ],
      "text/plain": [
       "     gene_1    gene_2  gene_3    gene_4  gene_5  gene_6  gene_7  gene_8  \\\n",
       "0       0.0  0.000000     0.0  2.088413     0.0     0.0     0.0     0.0   \n",
       "1       0.0  0.000000     0.0  3.205955     0.0     0.0     0.0     0.0   \n",
       "2       0.0  0.000000     0.0  4.746646     0.0     0.0     0.0     0.0   \n",
       "3       0.0  0.000000     0.0  1.173191     0.0     0.0     0.0     0.0   \n",
       "4       0.0  0.000000     0.0  1.366532     0.0     0.0     0.0     0.0   \n",
       "..      ...       ...     ...       ...     ...     ...     ...     ...   \n",
       "796     0.0  2.933384     0.0  1.683921     0.0     0.0     0.0     0.0   \n",
       "797     0.0  0.000000     0.0  2.772625     0.0     0.0     0.0     0.0   \n",
       "798     0.0  0.408277     0.0  1.854754     0.0     0.0     0.0     0.0   \n",
       "799     0.0  0.639232     0.0  3.226971     0.0     0.0     0.0     0.0   \n",
       "800     0.0  0.000000     0.0  2.336912     0.0     0.0     0.0     0.0   \n",
       "\n",
       "       gene_9   gene_10  ...  gene_7992  gene_7993  gene_7994  gene_7995  \\\n",
       "0    0.550605  2.815760  ...  11.558803   8.881802   6.014840   6.643534   \n",
       "1    0.425244  2.354396  ...  11.062829   9.032864   5.054193   6.432320   \n",
       "2    2.639417  1.657091  ...  12.497640   7.198160   0.943434   7.371690   \n",
       "3    1.527371  2.732899  ...  11.261713   8.725676   6.300418   6.036451   \n",
       "4    0.000000  3.388355  ...  12.241965   7.685204   5.142948   6.355788   \n",
       "..        ...       ...  ...        ...        ...        ...        ...   \n",
       "796  0.635336  1.252839  ...   9.985842   9.469967   4.225275   6.955336   \n",
       "797  0.534759  3.761764  ...  12.334681   8.157327   1.482797   6.758183   \n",
       "798  0.000000  0.986520  ...  11.671992   8.859616   6.393828   6.427115   \n",
       "799  1.921322  0.639232  ...  12.237087   5.753976   4.192478   6.614875   \n",
       "800  0.926379  1.233090  ...  11.086966   8.345086   7.789018   6.472460   \n",
       "\n",
       "     gene_7996  gene_7997  gene_7998  gene_7999  gene_8000  Cancer_Type  \n",
       "0    11.740624   7.065012   9.932659   6.928584   2.088413         KIRC  \n",
       "1    12.104985   7.300746   9.872796   5.039231   2.448002         KIRC  \n",
       "2    11.202356   8.426588  11.176890   3.119738   4.433988         BRCA  \n",
       "3    11.732303   7.559469   9.596453   2.863046   3.380342         KIRC  \n",
       "4    11.493950   8.139444  10.189256   6.544487   0.839395         COAD  \n",
       "..         ...        ...        ...        ...        ...          ...  \n",
       "796  11.722206   7.309940  10.986119   6.396848   1.252839         BRCA  \n",
       "797  11.403838   9.005347  11.012045   5.386625   1.697640         COAD  \n",
       "798  11.596586   7.454127  10.718533   5.507417   1.398131         BRCA  \n",
       "799  11.183245   7.544261  10.649382   5.282158   0.639232         BRCA  \n",
       "800  11.819836   8.082942  10.397717   7.550000   0.926379         COAD  \n",
       "\n",
       "[801 rows x 8001 columns]"
      ]
     },
     "execution_count": 8,
     "metadata": {},
     "output_type": "execute_result"
    }
   ],
   "source": [
    "dataframe"
   ]
  },
  {
   "cell_type": "code",
   "execution_count": 9,
   "id": "3ffda2a7",
   "metadata": {},
   "outputs": [
    {
     "name": "stdout",
     "output_type": "stream",
     "text": [
      "columns with missing values:0\n"
     ]
    }
   ],
   "source": [
    "#checking missing values\n",
    "datanul=dataframe.isnull().sum()\n",
    "k=[i for i in datanul if i>0]\n",
    "\n",
    "print('columns with missing values:%d'%len(k))"
   ]
  },
  {
   "cell_type": "code",
   "execution_count": 10,
   "id": "aaa2e9c0",
   "metadata": {},
   "outputs": [
    {
     "data": {
      "text/plain": [
       "<AxesSubplot:ylabel='Cancer_Type'>"
      ]
     },
     "execution_count": 10,
     "metadata": {},
     "output_type": "execute_result"
    },
    {
     "data": {
      "image/png": "[encoded data removed]",
      "text/plain": [
       "<Figure size 792x432 with 1 Axes>"
      ]
     },
     "metadata": {},
     "output_type": "display_data"
    }
   ],
   "source": [
    "#plot a bar chat to display the class distribution\n",
    "\n",
    "dataframe['Cancer_Type'].value_counts().plot(kind='pie', figsize =(11,6))"
   ]
  },
  {
   "cell_type": "markdown",
   "id": "75c2df3c",
   "metadata": {},
   "source": [
    "## *Data preprocesing for put data in appropriate format before modelling*"
   ]
  },
  {
   "cell_type": "code",
   "execution_count": 11,
   "id": "b2e5b073",
   "metadata": {},
   "outputs": [],
   "source": [
    "# seperate the feature values from class\n",
    "# sklearn require that features and class are separated before parsing them to the classifiers.\n",
    "X=dataframe.iloc[:,0:-1]\n",
    "y=dataframe.iloc[:,-1]"
   ]
  },
  {
   "cell_type": "code",
   "execution_count": 12,
   "id": "70057609",
   "metadata": {},
   "outputs": [
    {
     "data": {
      "text/plain": [
       "(801, 8000)"
      ]
     },
     "execution_count": 12,
     "metadata": {},
     "output_type": "execute_result"
    }
   ],
   "source": [
    "X.shape"
   ]
  },
  {
   "cell_type": "code",
   "execution_count": 13,
   "id": "a7bbd9ce",
   "metadata": {},
   "outputs": [
    {
     "data": {
      "text/plain": [
       "(801,)"
      ]
     },
     "execution_count": 13,
     "metadata": {},
     "output_type": "execute_result"
    }
   ],
   "source": [
    "y.shape"
   ]
  },
  {
   "cell_type": "code",
   "execution_count": 14,
   "id": "07da53cb",
   "metadata": {},
   "outputs": [
    {
     "data": {
      "text/plain": [
       "(801, 8001)"
      ]
     },
     "execution_count": 14,
     "metadata": {},
     "output_type": "execute_result"
    }
   ],
   "source": [
    "dataframe.shape"
   ]
  },
  {
   "cell_type": "markdown",
   "id": "cd1cf2e5",
   "metadata": {},
   "source": [
    "\\\n",
    "**Encode labels**\n",
    "\n",
    "The labels for this data are categorical and we therefore have to convert them to numeric forms. This is referred to as encoding. Machine learning models usually require input data to be in numeric forms, hence we encoding the labels."
   ]
  },
  {
   "cell_type": "code",
   "execution_count": 15,
   "id": "1fcf8da7",
   "metadata": {},
   "outputs": [],
   "source": [
    "#Encode target labels (y) with values between 0 and n_classes-1.\n",
    "#Encoding will be done using the LabelEncoder\n",
    "label_en =LabelEncoder()\n",
    "label_en.fit(y)\n",
    "y_encoded = label_en.transform(y)\n",
    "label = label_en.classes_\n",
    "classes = np.unique(y_encoded)"
   ]
  },
  {
   "cell_type": "code",
   "execution_count": 16,
   "id": "462c4d2e",
   "metadata": {},
   "outputs": [
    {
     "data": {
      "text/plain": [
       "array(['BRCA', 'COAD', 'KIRC', 'LUAD', 'PRAD'], dtype=object)"
      ]
     },
     "execution_count": 16,
     "metadata": {},
     "output_type": "execute_result"
    }
   ],
   "source": [
    "label"
   ]
  },
  {
   "cell_type": "code",
   "execution_count": 17,
   "id": "2fb99b7c",
   "metadata": {},
   "outputs": [
    {
     "data": {
      "text/plain": [
       "array([0, 1, 2, 3, 4])"
      ]
     },
     "execution_count": 17,
     "metadata": {},
     "output_type": "execute_result"
    }
   ],
   "source": [
    "classes"
   ]
  },
  {
   "cell_type": "markdown",
   "id": "1d982a8d",
   "metadata": {},
   "source": [
    "The above labels are mapped to the classes"
   ]
  },
  {
   "cell_type": "markdown",
   "id": "6499cfb0",
   "metadata": {},
   "source": [
    "\\\n",
    "**Data Splitting**\\\n",
    "We will now partition the data into training and testing sets. The training data will be preprocessed and fed into the machine learning model. During this training phase, the model will learn to recognize underlying patterns within the data that will enable it to make accurate predictions on future unseen data. The testing set, completely independent of the training data, will then be used to rigorously evaluate the model's generalizability and performance.\n",
    "\n",
    "\n"
   ]
  },
  {
   "cell_type": "code",
   "execution_count": 18,
   "id": "a3414256",
   "metadata": {},
   "outputs": [],
   "source": [
    "X_train, X_test,y_train,y_test = train_test_split(X,y_encoded,test_size=0.2,random_state=42)"
   ]
  },
  {
   "cell_type": "code",
   "execution_count": 19,
   "id": "40551c7c",
   "metadata": {},
   "outputs": [
    {
     "data": {
      "text/html": [
       "<div>\n",
       "<style scoped>\n",
       "    .dataframe tbody tr th:only-of-type {\n",
       "        vertical-align: middle;\n",
       "    }\n",
       "\n",
       "    .dataframe tbody tr th {\n",
       "        vertical-align: top;\n",
       "    }\n",
       "\n",
       "    .dataframe thead th {\n",
       "        text-align: right;\n",
       "    }\n",
       "</style>\n",
       "<table border=\"1\" class=\"dataframe\">\n",
       "  <thead>\n",
       "    <tr style=\"text-align: right;\">\n",
       "      <th></th>\n",
       "      <th>gene_1</th>\n",
       "      <th>gene_2</th>\n",
       "      <th>gene_3</th>\n",
       "      <th>gene_4</th>\n",
       "      <th>gene_5</th>\n",
       "      <th>gene_6</th>\n",
       "      <th>gene_7</th>\n",
       "      <th>gene_8</th>\n",
       "      <th>gene_9</th>\n",
       "      <th>gene_10</th>\n",
       "    </tr>\n",
       "  </thead>\n",
       "  <tbody>\n",
       "    <tr>\n",
       "      <th>count</th>\n",
       "      <td>801.000000</td>\n",
       "      <td>801.000000</td>\n",
       "      <td>801.000000</td>\n",
       "      <td>801.000000</td>\n",
       "      <td>801.000000</td>\n",
       "      <td>801.000000</td>\n",
       "      <td>801.000000</td>\n",
       "      <td>801.000000</td>\n",
       "      <td>801.000000</td>\n",
       "      <td>801.000000</td>\n",
       "    </tr>\n",
       "    <tr>\n",
       "      <th>mean</th>\n",
       "      <td>0.026642</td>\n",
       "      <td>0.231049</td>\n",
       "      <td>0.010844</td>\n",
       "      <td>2.405459</td>\n",
       "      <td>0.005799</td>\n",
       "      <td>0.065640</td>\n",
       "      <td>0.022036</td>\n",
       "      <td>0.028394</td>\n",
       "      <td>0.703998</td>\n",
       "      <td>1.916364</td>\n",
       "    </tr>\n",
       "    <tr>\n",
       "      <th>std</th>\n",
       "      <td>0.136850</td>\n",
       "      <td>0.656692</td>\n",
       "      <td>0.153859</td>\n",
       "      <td>0.797236</td>\n",
       "      <td>0.052265</td>\n",
       "      <td>0.213557</td>\n",
       "      <td>0.148917</td>\n",
       "      <td>0.161606</td>\n",
       "      <td>0.779321</td>\n",
       "      <td>0.877010</td>\n",
       "    </tr>\n",
       "    <tr>\n",
       "      <th>min</th>\n",
       "      <td>0.000000</td>\n",
       "      <td>0.000000</td>\n",
       "      <td>0.000000</td>\n",
       "      <td>0.000000</td>\n",
       "      <td>0.000000</td>\n",
       "      <td>0.000000</td>\n",
       "      <td>0.000000</td>\n",
       "      <td>0.000000</td>\n",
       "      <td>0.000000</td>\n",
       "      <td>0.000000</td>\n",
       "    </tr>\n",
       "    <tr>\n",
       "      <th>25%</th>\n",
       "      <td>0.000000</td>\n",
       "      <td>0.000000</td>\n",
       "      <td>0.000000</td>\n",
       "      <td>1.898595</td>\n",
       "      <td>0.000000</td>\n",
       "      <td>0.000000</td>\n",
       "      <td>0.000000</td>\n",
       "      <td>0.000000</td>\n",
       "      <td>0.000000</td>\n",
       "      <td>1.357214</td>\n",
       "    </tr>\n",
       "    <tr>\n",
       "      <th>50%</th>\n",
       "      <td>0.000000</td>\n",
       "      <td>0.000000</td>\n",
       "      <td>0.000000</td>\n",
       "      <td>2.358284</td>\n",
       "      <td>0.000000</td>\n",
       "      <td>0.000000</td>\n",
       "      <td>0.000000</td>\n",
       "      <td>0.000000</td>\n",
       "      <td>0.518031</td>\n",
       "      <td>1.877862</td>\n",
       "    </tr>\n",
       "    <tr>\n",
       "      <th>75%</th>\n",
       "      <td>0.000000</td>\n",
       "      <td>0.000000</td>\n",
       "      <td>0.000000</td>\n",
       "      <td>2.929355</td>\n",
       "      <td>0.000000</td>\n",
       "      <td>0.000000</td>\n",
       "      <td>0.000000</td>\n",
       "      <td>0.000000</td>\n",
       "      <td>1.123931</td>\n",
       "      <td>2.486792</td>\n",
       "    </tr>\n",
       "    <tr>\n",
       "      <th>max</th>\n",
       "      <td>1.482332</td>\n",
       "      <td>6.575004</td>\n",
       "      <td>3.778061</td>\n",
       "      <td>4.746646</td>\n",
       "      <td>0.570754</td>\n",
       "      <td>1.866275</td>\n",
       "      <td>2.169925</td>\n",
       "      <td>2.375957</td>\n",
       "      <td>4.541670</td>\n",
       "      <td>4.932231</td>\n",
       "    </tr>\n",
       "  </tbody>\n",
       "</table>\n",
       "</div>"
      ],
      "text/plain": [
       "           gene_1      gene_2      gene_3      gene_4      gene_5      gene_6  \\\n",
       "count  801.000000  801.000000  801.000000  801.000000  801.000000  801.000000   \n",
       "mean     0.026642    0.231049    0.010844    2.405459    0.005799    0.065640   \n",
       "std      0.136850    0.656692    0.153859    0.797236    0.052265    0.213557   \n",
       "min      0.000000    0.000000    0.000000    0.000000    0.000000    0.000000   \n",
       "25%      0.000000    0.000000    0.000000    1.898595    0.000000    0.000000   \n",
       "50%      0.000000    0.000000    0.000000    2.358284    0.000000    0.000000   \n",
       "75%      0.000000    0.000000    0.000000    2.929355    0.000000    0.000000   \n",
       "max      1.482332    6.575004    3.778061    4.746646    0.570754    1.866275   \n",
       "\n",
       "           gene_7      gene_8      gene_9     gene_10  \n",
       "count  801.000000  801.000000  801.000000  801.000000  \n",
       "mean     0.022036    0.028394    0.703998    1.916364  \n",
       "std      0.148917    0.161606    0.779321    0.877010  \n",
       "min      0.000000    0.000000    0.000000    0.000000  \n",
       "25%      0.000000    0.000000    0.000000    1.357214  \n",
       "50%      0.000000    0.000000    0.518031    1.877862  \n",
       "75%      0.000000    0.000000    1.123931    2.486792  \n",
       "max      2.169925    2.375957    4.541670    4.932231  "
      ]
     },
     "execution_count": 19,
     "metadata": {},
     "output_type": "execute_result"
    }
   ],
   "source": [
    "dataframe.iloc[:,0:10].describe()"
   ]
  },
  {
   "cell_type": "markdown",
   "id": "c0910530",
   "metadata": {},
   "source": [
    "\\\n",
    "**Data Normalization**\\\n",
    "Looking the above results . we could find out that they are in diffrent ranges , need to normalize\n",
    "Data normalization is done so that the values are in the same range. This will improve model performance and avoid bias"
   ]
  },
  {
   "cell_type": "code",
   "execution_count": 20,
   "id": "63916648",
   "metadata": {},
   "outputs": [],
   "source": [
    "# Scale data between 0 and 1\n",
    "min_max_scal = MinMaxScaler()\n",
    "X_train_norm = min_max_scal.fit_transform(X_train)\n",
    "X_test_norm =min_max_scal.fit_transform(X_test)"
   ]
  },
  {
   "cell_type": "code",
   "execution_count": 21,
   "id": "138d6b4a",
   "metadata": {},
   "outputs": [
    {
     "data": {
      "text/plain": [
       "2.18164326123"
      ]
     },
     "execution_count": 21,
     "metadata": {},
     "output_type": "execute_result"
    }
   ],
   "source": [
    "X_train.iloc[0,3]"
   ]
  },
  {
   "cell_type": "code",
   "execution_count": 22,
   "id": "8d07d79f",
   "metadata": {},
   "outputs": [
    {
     "data": {
      "text/plain": [
       "0.4671305057022768"
      ]
     },
     "execution_count": 22,
     "metadata": {},
     "output_type": "execute_result"
    }
   ],
   "source": [
    "X_train_norm[0,3] #this is numpy array"
   ]
  },
  {
   "cell_type": "markdown",
   "id": "0c9103ac",
   "metadata": {},
   "source": [
    "## **Feature Selection**\n",
    "\n",
    "Feature selection is a critical pre-processing step employed to identify and retain the most relevant features for the classification task. This process aims to reduce the dimensionality of the data while preserving its informative content. In this instance, the mutual information algorithm is leveraged to quantify the degree of association between each feature and the target variable. Subsequently, the top n features (e.g., 300) exhibiting the strongest relationships are chosen for further machine learning analysis.\n",
    "\n",
    "\n"
   ]
  },
  {
   "cell_type": "code",
   "execution_count": 23,
   "id": "d96dd9cd",
   "metadata": {},
   "outputs": [],
   "source": [
    "MI = mutual_info_classif(X_train_norm,y_train)"
   ]
  },
  {
   "cell_type": "code",
   "execution_count": 24,
   "id": "b0f79861",
   "metadata": {},
   "outputs": [
    {
     "data": {
      "text/plain": [
       "(8000,)"
      ]
     },
     "execution_count": 24,
     "metadata": {},
     "output_type": "execute_result"
    }
   ],
   "source": [
    "MI.shape"
   ]
  },
  {
   "cell_type": "code",
   "execution_count": 25,
   "id": "d320973d",
   "metadata": {},
   "outputs": [
    {
     "data": {
      "text/plain": [
       "array([0.        , 0.04955634, 0.00327506, 0.05019165, 0.        ])"
      ]
     },
     "execution_count": 25,
     "metadata": {},
     "output_type": "execute_result"
    }
   ],
   "source": [
    "MI[0:5]"
   ]
  },
  {
   "cell_type": "code",
   "execution_count": 26,
   "id": "8b347c87",
   "metadata": {},
   "outputs": [],
   "source": [
    "# Select the top 300 features\n",
    "n_feature = 300\n",
    "select_score_indices =np.argsort(MI)[::-1][0:n_feature]"
   ]
  },
  {
   "cell_type": "code",
   "execution_count": 27,
   "id": "235ea536",
   "metadata": {},
   "outputs": [],
   "source": [
    "X_train_selected = X_train_norm[:,select_score_indices]\n",
    "X_test_selected = X_test_norm[:,select_score_indices]\n"
   ]
  },
  {
   "cell_type": "code",
   "execution_count": 28,
   "id": "f96c984e",
   "metadata": {},
   "outputs": [
    {
     "data": {
      "text/plain": [
       "(640, 300)"
      ]
     },
     "execution_count": 28,
     "metadata": {},
     "output_type": "execute_result"
    }
   ],
   "source": [
    "X_train_selected.shape\n"
   ]
  },
  {
   "cell_type": "code",
   "execution_count": 29,
   "id": "d497030b",
   "metadata": {},
   "outputs": [
    {
     "data": {
      "text/plain": [
       "(161, 300)"
      ]
     },
     "execution_count": 29,
     "metadata": {},
     "output_type": "execute_result"
    }
   ],
   "source": [
    "X_test_selected.shape"
   ]
  },
  {
   "cell_type": "markdown",
   "id": "cb02551e",
   "metadata": {},
   "source": [
    "## Classification\n",
    "\n",
    "Our machine learning approach leverages a random forest classifier, a well-suited algorithm for handling the project's inherently high-dimensional and multiclass data. This ensemble learning method trains a multitude of decision trees, each analyzing a random subset of features. The final classification is determined by aggregating the predictions from these individual trees, leading to a robust and accurate model"
   ]
  },
  {
   "cell_type": "markdown",
   "id": "5830ed86",
   "metadata": {},
   "source": [
    "### Model Training\n",
    "\n",
    "The training process empowers a machine learning model to extract knowledge from data. This acquired knowledge allows the model to generate predictions for unseen data by identifying and leveraging underlying patterns. During this critical phase, the model is exposed to a designated training subset. For the purposes of this tutorial, we will employ the Random Forest Classifier algorithm."
   ]
  },
  {
   "cell_type": "code",
   "execution_count": 31,
   "id": "b9d63a90",
   "metadata": {},
   "outputs": [],
   "source": [
    "#Random Forest Classifier\n",
    "#because we are dealing with multiclass data, the one versus rest strategy is used.\n",
    "#learn to predict each class against the other.\n",
    "RF=OneVsRestClassifier(RandomForestClassifier(max_features=0.2))\n",
    "RF.fit(X_train_selected,y_train)\n",
    "y_pred =RF.predict(X_test_selected)\n",
    "pred_prob = RF.predict_proba(X_test_selected)"
   ]
  },
  {
   "cell_type": "markdown",
   "id": "c6332f4c",
   "metadata": {},
   "source": [
    "### Model Evaluation\n",
    "\n",
    "After training the model, it is important to know how the model performs on an independent data(i.e. the test data). The following metrics are used to evaluate the model\n",
    "- accuracy\n",
    "- precision\n",
    "- recall\n",
    "- f1 score\n",
    "- confusion matrix\n",
    "- ROC Curve\n"
   ]
  },
  {
   "cell_type": "code",
   "execution_count": 32,
   "id": "01ef8e5a",
   "metadata": {},
   "outputs": [
    {
     "name": "stdout",
     "output_type": "stream",
     "text": [
      "accuracy:0.9550\n"
     ]
    }
   ],
   "source": [
    "#accuracy\n",
    "accuracy=np.round(balanced_accuracy_score(y_test,y_pred),4)\n",
    "print('accuracy:%0.4f'%accuracy)"
   ]
  },
  {
   "cell_type": "code",
   "execution_count": 33,
   "id": "2228b7a0",
   "metadata": {},
   "outputs": [
    {
     "name": "stdout",
     "output_type": "stream",
     "text": [
      "precision:0.9695\n"
     ]
    }
   ],
   "source": [
    "#precision\n",
    "precision=np.round(precision_score(y_test,y_pred,average = 'weighted'),4)\n",
    "print('precision:%0.4f'%precision)"
   ]
  },
  {
   "cell_type": "code",
   "execution_count": 34,
   "id": "04cc1bc3",
   "metadata": {},
   "outputs": [
    {
     "name": "stdout",
     "output_type": "stream",
     "text": [
      "recall:0.9689\n"
     ]
    }
   ],
   "source": [
    "#recall\n",
    "recall=np.round(recall_score(y_test,y_pred,average = 'weighted'),4)\n",
    "print('recall:%0.4f'%recall)\n"
   ]
  },
  {
   "cell_type": "code",
   "execution_count": 35,
   "id": "310216e5",
   "metadata": {},
   "outputs": [
    {
     "name": "stdout",
     "output_type": "stream",
     "text": [
      "f1score:0.9687\n"
     ]
    }
   ],
   "source": [
    "#f1score\n",
    "f1score=np.round(f1_score(y_test,y_pred,average = 'weighted'),4)\n",
    "print('f1score:%0.4f'%f1score)"
   ]
  },
  {
   "cell_type": "code",
   "execution_count": 37,
   "id": "c256b2ff",
   "metadata": {},
   "outputs": [
    {
     "name": "stdout",
     "output_type": "stream",
     "text": [
      "\n",
      "\n",
      "classification report\n",
      "\n",
      "\n",
      "              precision    recall  f1-score   support\n",
      "\n",
      "        BRCA       0.95      0.98      0.97        60\n",
      "        COAD       1.00      0.88      0.93        16\n",
      "        KIRC       1.00      1.00      1.00        28\n",
      "        LUAD       0.92      0.92      0.92        24\n",
      "        PRAD       1.00      1.00      1.00        33\n",
      "\n",
      "    accuracy                           0.97       161\n",
      "   macro avg       0.97      0.96      0.96       161\n",
      "weighted avg       0.97      0.97      0.97       161\n",
      "\n"
     ]
    }
   ],
   "source": [
    "report=classification_report(y_test,y_pred, target_names=label)\n",
    "print('\\n')\n",
    "print('classification report\\n\\n')\n",
    "print(report)"
   ]
  },
  {
   "cell_type": "code",
   "execution_count": 41,
   "id": "e276687a",
   "metadata": {},
   "outputs": [],
   "source": [
    "#generate confusion matrix\n",
    "cm=confusion_matrix(y_test,y_pred)\n",
    "cm_df=pd.DataFrame(cm,index=label,columns=label)"
   ]
  },
  {
   "cell_type": "code",
   "execution_count": 42,
   "id": "f9960f9f",
   "metadata": {},
   "outputs": [
    {
     "data": {
      "text/html": [
       "<div>\n",
       "<style scoped>\n",
       "    .dataframe tbody tr th:only-of-type {\n",
       "        vertical-align: middle;\n",
       "    }\n",
       "\n",
       "    .dataframe tbody tr th {\n",
       "        vertical-align: top;\n",
       "    }\n",
       "\n",
       "    .dataframe thead th {\n",
       "        text-align: right;\n",
       "    }\n",
       "</style>\n",
       "<table border=\"1\" class=\"dataframe\">\n",
       "  <thead>\n",
       "    <tr style=\"text-align: right;\">\n",
       "      <th></th>\n",
       "      <th>BRCA</th>\n",
       "      <th>COAD</th>\n",
       "      <th>KIRC</th>\n",
       "      <th>LUAD</th>\n",
       "      <th>PRAD</th>\n",
       "    </tr>\n",
       "  </thead>\n",
       "  <tbody>\n",
       "    <tr>\n",
       "      <th>BRCA</th>\n",
       "      <td>59</td>\n",
       "      <td>0</td>\n",
       "      <td>0</td>\n",
       "      <td>1</td>\n",
       "      <td>0</td>\n",
       "    </tr>\n",
       "    <tr>\n",
       "      <th>COAD</th>\n",
       "      <td>1</td>\n",
       "      <td>14</td>\n",
       "      <td>0</td>\n",
       "      <td>1</td>\n",
       "      <td>0</td>\n",
       "    </tr>\n",
       "    <tr>\n",
       "      <th>KIRC</th>\n",
       "      <td>0</td>\n",
       "      <td>0</td>\n",
       "      <td>28</td>\n",
       "      <td>0</td>\n",
       "      <td>0</td>\n",
       "    </tr>\n",
       "    <tr>\n",
       "      <th>LUAD</th>\n",
       "      <td>2</td>\n",
       "      <td>0</td>\n",
       "      <td>0</td>\n",
       "      <td>22</td>\n",
       "      <td>0</td>\n",
       "    </tr>\n",
       "    <tr>\n",
       "      <th>PRAD</th>\n",
       "      <td>0</td>\n",
       "      <td>0</td>\n",
       "      <td>0</td>\n",
       "      <td>0</td>\n",
       "      <td>33</td>\n",
       "    </tr>\n",
       "  </tbody>\n",
       "</table>\n",
       "</div>"
      ],
      "text/plain": [
       "      BRCA  COAD  KIRC  LUAD  PRAD\n",
       "BRCA    59     0     0     1     0\n",
       "COAD     1    14     0     1     0\n",
       "KIRC     0     0    28     0     0\n",
       "LUAD     2     0     0    22     0\n",
       "PRAD     0     0     0     0    33"
      ]
     },
     "execution_count": 42,
     "metadata": {},
     "output_type": "execute_result"
    }
   ],
   "source": [
    "cm_df"
   ]
  },
  {
   "cell_type": "code",
   "execution_count": 43,
   "id": "ec1b5bc9",
   "metadata": {},
   "outputs": [
    {
     "data": {
      "text/plain": [
       "Text(33.0, 0.5, 'True Labels')"
      ]
     },
     "execution_count": 43,
     "metadata": {},
     "output_type": "execute_result"
    },
    {
     "data": {
      "image/png": "[encoded data removed]",
      "text/plain": [
       "<Figure size 432x288 with 2 Axes>"
      ]
     },
     "metadata": {
      "needs_background": "light"
     },
     "output_type": "display_data"
    }
   ],
   "source": [
    "#visualize the confusion matrix using seaborn\n",
    "\n",
    "sns.heatmap(cm_df,annot=True,cmap='Blues')\n",
    "plt.xlabel('Predicted Labels')\n",
    "plt.ylabel('True Labels')"
   ]
  },
  {
   "cell_type": "code",
   "execution_count": 50,
   "id": "eb33e357",
   "metadata": {},
   "outputs": [
    {
     "data": {
      "image/png": "[encoded data removed]",
      "text/plain": [
       "<Figure size 432x288 with 1 Axes>"
      ]
     },
     "metadata": {
      "needs_background": "light"
     },
     "output_type": "display_data"
    }
   ],
   "source": [
    "#roc curves will be generated for each class\n",
    "#we will therefore have to binarize the y_test labels\n",
    "#this is done because the probabilities(pred_prob) are calculated for each each class\n",
    "#we therefore need to put the y_test label in the same format as the pred_prob\n",
    "from sklearn.preprocessing import label_binarize\n",
    "y_test_binarized=label_binarize(y_test,classes=classes)\n",
    "\n",
    "# roc curve for classes\n",
    "fpr = {}\n",
    "tpr = {}\n",
    "thresh ={}\n",
    "roc_auc = dict()\n",
    "\n",
    "n_class = classes.shape[0]\n",
    "\n",
    "for i in range(n_class):    \n",
    "    fpr[i], tpr[i], thresh[i] = roc_curve(y_test_binarized[:,i], pred_prob[:,i])\n",
    "    roc_auc[i] = auc(fpr[i], tpr[i])\n",
    "    \n",
    "    # plotting    \n",
    "    plt.plot(fpr[i], tpr[i], linestyle='--', \n",
    "             label='%s vs Rest (AUC=%0.2f)'%(label[i],roc_auc[i]))\n",
    "\n",
    "plt.plot([0,1],[0,1],'b--')\n",
    "plt.xlim([0,1])\n",
    "plt.ylim([0,1.05])\n",
    "plt.title('Multiclass ROC curve')\n",
    "plt.xlabel('False Positive Rate')\n",
    "plt.ylabel('True Positive rate')\n",
    "plt.legend(loc='lower right')\n",
    "plt.show()    "
   ]
  },
  {
   "cell_type": "code",
   "execution_count": null,
   "id": "1ac95a5c",
   "metadata": {},
   "outputs": [],
   "source": []
  }
 ],
 "metadata": {
  "kernelspec": {
   "display_name": "Python 3 (ipykernel)",
   "language": "python",
   "name": "python3"
  },
  "language_info": {
   "codemirror_mode": {
    "name": "ipython",
    "version": 3
   },
   "file_extension": ".py",
   "mimetype": "text/x-python",
   "name": "python",
   "nbconvert_exporter": "python",
   "pygments_lexer": "ipython3",
   "version": "3.9.12"
  }
 },
 "nbformat": 4,
 "nbformat_minor": 5
}
